{
 "cells": [
  {
   "cell_type": "code",
   "execution_count": 1,
   "metadata": {},
   "outputs": [],
   "source": [
    "# importing required modules\n",
    "import boto3\n",
    "\n",
    "# defining s3\n",
    "s3 = boto3.resource('s3')\n",
    "\n",
    "# setting region to the nearest\n",
    "region = \"eu-west-1\"\n",
    "\n",
    "# initialized s3 resource\n",
    "s3_client = boto3.client('s3', region_name=region)\n",
    "\n",
    "# downloading the file and saving it in preferred destination\n",
    "s3.Bucket('blossom-data-engs').download_file('alldata.csv', '/home/eddie/Desktop/Blossom_Eddie/alldata.csv')\n",
    "s3.Bucket('blossom-data-engs').download_file('companies.csv', '/home/eddie/Desktop/Blossom_Eddie/companies.csv')"
   ]
  },
  {
   "cell_type": "code",
   "execution_count": 2,
   "metadata": {},
   "outputs": [],
   "source": [
    "#loading the relevant packages\n",
    "from pyspark.sql.types import BooleanType\n",
    "from pyspark.sql.functions import udf\n",
    "from pyspark.sql import functions as F\n",
    "from pyspark.sql import SparkSession\n",
    "from pyspark.sql import Window\n",
    "from pyspark.ml.feature import NGram\n",
    "from pyspark.ml.feature import Tokenizer\n",
    "\n",
    "# create spark session if one doesn't exist already \n",
    "spark = SparkSession.builder.getOrCreate()"
   ]
  },
  {
   "cell_type": "code",
   "execution_count": 3,
   "metadata": {},
   "outputs": [],
   "source": [
    "companies = spark.read.csv(\n",
    "    'companies.csv', \n",
    "     header=True , inferSchema=True, escape='\"', multiLine=True)\n",
    "\n",
    "alldata = spark.read.csv(\n",
    "    'alldata.csv', \n",
    "     header=True , inferSchema=True, escape='\"', multiLine=True)"
   ]
  },
  {
   "cell_type": "code",
   "execution_count": 4,
   "metadata": {},
   "outputs": [],
   "source": [
    "#joining companies & alldata datasets on 2 columns\n",
    "new = companies.join(alldata, (companies['company name'] == alldata.company) | (companies.description == alldata.description))"
   ]
  },
  {
   "cell_type": "code",
   "execution_count": 5,
   "metadata": {},
   "outputs": [
    {
     "data": {
      "text/plain": [
       "['ticker',\n",
       " 'company name',\n",
       " 'short name',\n",
       " 'industry',\n",
       " 'description',\n",
       " 'website',\n",
       " 'logo',\n",
       " 'ceo',\n",
       " 'exchange',\n",
       " 'market cap',\n",
       " 'sector',\n",
       " 'tag 1',\n",
       " 'tag 2',\n",
       " 'tag 3',\n",
       " 'position',\n",
       " 'company',\n",
       " 'description',\n",
       " 'reviews',\n",
       " 'location']"
      ]
     },
     "execution_count": 5,
     "metadata": {},
     "output_type": "execute_result"
    }
   ],
   "source": [
    "new.columns"
   ]
  },
  {
   "cell_type": "markdown",
   "metadata": {},
   "source": [
    "QTNS D TO E"
   ]
  },
  {
   "cell_type": "code",
   "execution_count": 6,
   "metadata": {},
   "outputs": [],
   "source": [
    "#this function tokenizes and generates unigrams and bigrams from the 'description' column\n",
    "\n",
    "def generate_ngram():\n",
    "    global companies\n",
    "    companies.filter(companies.description.isNotNull())\n",
    "    companies.filter(companies.industry.isNotNull())\n",
    "    tokens = Tokenizer(inputCol= 'description', outputCol= 'tokens')\n",
    "    companies = tokens.transform(companies)\n",
    "    bigrams = NGram(n=2, inputCol='tokens', outputCol='bigrams')\n",
    "    unigrams = NGram(n=1, inputCol='tokens', outputCol='unigrams')\n",
    "    companies = bigrams.transform(companies)\n",
    "    companies = unigrams.transform(companies)\n",
    "    return companies.select(['bigrams', 'unigrams']).show(5)"
   ]
  },
  {
   "cell_type": "code",
   "execution_count": 7,
   "metadata": {},
   "outputs": [
    {
     "name": "stdout",
     "output_type": "stream",
     "text": [
      "+--------------------+--------------------+\n",
      "|             bigrams|            unigrams|\n",
      "+--------------------+--------------------+\n",
      "|[agilent technolo...|[agilent, technol...|\n",
      "|[alcoa corp, corp...|[alcoa, corp, is,...|\n",
      "|[altaba inc, inc ...|[altaba, inc, is,...|\n",
      "|[aac holdings, ho...|[aac, holdings, i...|\n",
      "|[the investment, ...|[the, investment,...|\n",
      "+--------------------+--------------------+\n",
      "only showing top 5 rows\n",
      "\n"
     ]
    }
   ],
   "source": [
    "generate_ngram()"
   ]
  },
  {
   "cell_type": "code",
   "execution_count": 8,
   "metadata": {},
   "outputs": [
    {
     "name": "stdout",
     "output_type": "stream",
     "text": [
      "+--------------------+--------------------+---------+\n",
      "|             bigrams|            industry|frequency|\n",
      "+--------------------+--------------------+---------+\n",
      "|agilent technologies|Medical Diagnosti...|        1|\n",
      "|    technologies inc|Medical Diagnosti...|        1|\n",
      "|              inc is|Medical Diagnosti...|        1|\n",
      "|          is engaged|Medical Diagnosti...|        1|\n",
      "|          engaged in|Medical Diagnosti...|        1|\n",
      "|             in life|Medical Diagnosti...|        1|\n",
      "|      life sciences,|Medical Diagnosti...|        1|\n",
      "|sciences, diagnos...|Medical Diagnosti...|        1|\n",
      "|     diagnostics and|Medical Diagnosti...|        1|\n",
      "|         and applied|Medical Diagnosti...|        1|\n",
      "|    applied chemical|Medical Diagnosti...|        1|\n",
      "|   chemical markets.|Medical Diagnosti...|        1|\n",
      "|        markets. the|Medical Diagnosti...|        1|\n",
      "|         the company|Medical Diagnosti...|        1|\n",
      "|    company provides|Medical Diagnosti...|        1|\n",
      "|provides application|Medical Diagnosti...|        1|\n",
      "| application focused|Medical Diagnosti...|        1|\n",
      "|   focused solutions|Medical Diagnosti...|        1|\n",
      "|      solutions that|Medical Diagnosti...|        1|\n",
      "|        that include|Medical Diagnosti...|        1|\n",
      "+--------------------+--------------------+---------+\n",
      "only showing top 20 rows\n",
      "\n"
     ]
    }
   ],
   "source": [
    "#this functions creates a dataframe with 3 columns (bigrams, industry & frequency)\n",
    "\n",
    "def dataframe_bigrams():\n",
    "    global companies\n",
    "    companies_2 = companies.select('bigrams', 'industry').limit(1).select('industry', F.explode('bigrams').alias('bigrams')).groupBy('bigrams', 'industry').count()\n",
    "    companies_2 = companies_2.withColumnRenamed('count', 'frequency')\n",
    "    companies_2 = companies_2.orderBy(\"frequency\", ascending = True)\n",
    "    return companies_2.show()\n",
    "dataframe_bigrams()"
   ]
  },
  {
   "cell_type": "code",
   "execution_count": 10,
   "metadata": {},
   "outputs": [
    {
     "name": "stdout",
     "output_type": "stream",
     "text": [
      "+------------+--------------------+---------+\n",
      "|    unigrams|            industry|frequency|\n",
      "+------------+--------------------+---------+\n",
      "|     agilent|Medical Diagnosti...|        1|\n",
      "|technologies|Medical Diagnosti...|        1|\n",
      "|         inc|Medical Diagnosti...|        1|\n",
      "|          is|Medical Diagnosti...|        1|\n",
      "|     engaged|Medical Diagnosti...|        1|\n",
      "|          in|Medical Diagnosti...|        1|\n",
      "|        life|Medical Diagnosti...|        1|\n",
      "|   sciences,|Medical Diagnosti...|        1|\n",
      "| diagnostics|Medical Diagnosti...|        1|\n",
      "|     applied|Medical Diagnosti...|        1|\n",
      "|    chemical|Medical Diagnosti...|        1|\n",
      "|    markets.|Medical Diagnosti...|        1|\n",
      "|     company|Medical Diagnosti...|        1|\n",
      "|    provides|Medical Diagnosti...|        1|\n",
      "| application|Medical Diagnosti...|        1|\n",
      "|     focused|Medical Diagnosti...|        1|\n",
      "|   solutions|Medical Diagnosti...|        1|\n",
      "|        that|Medical Diagnosti...|        1|\n",
      "|     include|Medical Diagnosti...|        1|\n",
      "|instruments,|Medical Diagnosti...|        1|\n",
      "+------------+--------------------+---------+\n",
      "only showing top 20 rows\n",
      "\n"
     ]
    }
   ],
   "source": [
    "#this functions creates a dataframe with 3 columns (unigrams, industry & frequency)\n",
    "\n",
    "def dataframe_unigrams():\n",
    "    global companies\n",
    "    companies_2 = companies.select('unigrams', 'industry').limit(1).select('industry', F.explode('unigrams').alias('unigrams')).groupBy('unigrams', 'industry').count()\n",
    "    companies_2 = companies_2.withColumnRenamed('count', 'frequency')\n",
    "    companies_2 = companies_2.orderBy(\"frequency\", ascending = True)\n",
    "    return companies_2.show()\n",
    "dataframe_unigrams()"
   ]
  },
  {
   "cell_type": "code",
   "execution_count": 11,
   "metadata": {},
   "outputs": [
    {
     "name": "stdout",
     "output_type": "stream",
     "text": [
      "+--------------------+--------------------+\n",
      "|             bigrams|            unigrams|\n",
      "+--------------------+--------------------+\n",
      "|[development dire...|[development, dir...|\n",
      "|[job description,...|[job, description...|\n",
      "|[growing company,...|[growing, company...|\n",
      "|[department: prog...|[department:, pro...|\n",
      "|[description the,...|[description, the...|\n",
      "+--------------------+--------------------+\n",
      "only showing top 5 rows\n",
      "\n"
     ]
    }
   ],
   "source": [
    "#this function tokenizes and generates unigrams and bigrams from the 'description' column from the alldata set\n",
    "\n",
    "def genall():\n",
    "    global alldata\n",
    "    alldata.filter(alldata.description.isNotNull())\n",
    "    alldata.filter(alldata.location.isNotNull())\n",
    "    tokens = Tokenizer(inputCol= 'description', outputCol= 'tokens')\n",
    "    alldata = tokens.transform(alldata)\n",
    "    bigrams = NGram(n=2, inputCol='tokens', outputCol='bigrams')\n",
    "    unigrams = NGram(n=1, inputCol='tokens', outputCol='unigrams')\n",
    "    alldata = bigrams.transform(alldata)\n",
    "    alldata = unigrams.transform(alldata)\n",
    "    return alldata.select(['bigrams', 'unigrams']).show(5)\n",
    "genall()"
   ]
  },
  {
   "cell_type": "code",
   "execution_count": 12,
   "metadata": {},
   "outputs": [],
   "source": [
    "#this function creates dataframe (unigrams, city and frequency)\n",
    "def genall_unigrams():\n",
    "    global alldata\n",
    "    alldata1 = alldata.withColumn('city', F.split(alldata['location'], ',')[0])\n",
    "    alldata1 = alldata1.select(['unigrams', 'city']).limit(1).select('city', F.explode('unigrams').alias('unigrams')).groupBy(['unigrams', 'city']).count().orderBy(\"count\", ascending = False)\n",
    "    alldata1 = alldata1.withColumnRenamed('count', 'frequency')\n",
    "    return alldata1.show()"
   ]
  },
  {
   "cell_type": "code",
   "execution_count": 13,
   "metadata": {},
   "outputs": [
    {
     "name": "stdout",
     "output_type": "stream",
     "text": [
      "+-----------+-------+---------+\n",
      "|   unigrams|   city|frequency|\n",
      "+-----------+-------+---------+\n",
      "|        and|Atlanta|       20|\n",
      "|        the|Atlanta|        9|\n",
      "|        als|Atlanta|        9|\n",
      "|         to|Atlanta|        8|\n",
      "|development|Atlanta|        7|\n",
      "|         in|Atlanta|        6|\n",
      "|         at|Atlanta|        5|\n",
      "|         as|Atlanta|        5|\n",
      "|         of|Atlanta|        4|\n",
      "|        for|Atlanta|        4|\n",
      "|          a|Atlanta|        4|\n",
      "|  including|Atlanta|        4|\n",
      "|       with|Atlanta|        4|\n",
      "|fundraising|Atlanta|        3|\n",
      "|  institute|Atlanta|        3|\n",
      "|   position|Atlanta|        3|\n",
      "|         is|Atlanta|        3|\n",
      "|    therapy|Atlanta|        3|\n",
      "|           |Atlanta|        3|\n",
      "|       this|Atlanta|        3|\n",
      "+-----------+-------+---------+\n",
      "only showing top 20 rows\n",
      "\n"
     ]
    }
   ],
   "source": [
    "genall_unigrams()"
   ]
  },
  {
   "cell_type": "code",
   "execution_count": 14,
   "metadata": {},
   "outputs": [
    {
     "name": "stdout",
     "output_type": "stream",
     "text": [
      "+--------------------+-------+---------+\n",
      "|             bigrams|   city|frequency|\n",
      "+--------------------+-------+---------+\n",
      "|development insti...|Atlanta|        3|\n",
      "| therapy development|Atlanta|        3|\n",
      "|         als therapy|Atlanta|        3|\n",
      "|              tdi is|Atlanta|        2|\n",
      "|development director|Atlanta|        2|\n",
      "|             will be|Atlanta|        2|\n",
      "|       prospects and|Atlanta|        2|\n",
      "|        patients and|Atlanta|        2|\n",
      "|             als tdi|Atlanta|        2|\n",
      "|       position will|Atlanta|        2|\n",
      "|      in fundraising|Atlanta|        2|\n",
      "|          ability to|Atlanta|        2|\n",
      "| institute (als.net)|Atlanta|        2|\n",
      "|           and their|Atlanta|        2|\n",
      "|             well as|Atlanta|        2|\n",
      "|             as well|Atlanta|        2|\n",
      "|       this position|Atlanta|        2|\n",
      "|        director als|Atlanta|        1|\n",
      "|       institute has|Atlanta|        1|\n",
      "|              has an|Atlanta|        1|\n",
      "+--------------------+-------+---------+\n",
      "only showing top 20 rows\n",
      "\n"
     ]
    }
   ],
   "source": [
    "#this function creates dataframe (bigrams, city and frequency)\n",
    "\n",
    "def genall_bigrams():\n",
    "    global alldata\n",
    "    alldata1 = alldata.withColumn('city', F.split(alldata['location'], ',')[0])\n",
    "    alldata1 = alldata1.select(['bigrams', 'city']).limit(1).select('city', F.explode('bigrams').alias('bigrams')).groupBy(['bigrams', 'city']).count().orderBy(\"count\", ascending = False)\n",
    "    alldata1 = alldata1.withColumnRenamed('count', 'frequency')\n",
    "    return alldata1.show()\n",
    "genall_bigrams()"
   ]
  },
  {
   "cell_type": "code",
   "execution_count": null,
   "metadata": {},
   "outputs": [],
   "source": []
  }
 ],
 "metadata": {
  "kernelspec": {
   "display_name": "Python 3",
   "language": "python",
   "name": "python3"
  },
  "language_info": {
   "codemirror_mode": {
    "name": "ipython",
    "version": 3
   },
   "file_extension": ".py",
   "mimetype": "text/x-python",
   "name": "python",
   "nbconvert_exporter": "python",
   "pygments_lexer": "ipython3",
   "version": "3.8.3"
  }
 },
 "nbformat": 4,
 "nbformat_minor": 4
}
